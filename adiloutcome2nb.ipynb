{
  "nbformat": 4,
  "nbformat_minor": 0,
  "metadata": {
    "colab": {
      "name": "adiloutcome2nb.ipynb",
      "provenance": [],
      "authorship_tag": "ABX9TyMLFr3z5EKQu3x+6FLGp3UU",
      "include_colab_link": true
    },
    "kernelspec": {
      "name": "python3",
      "display_name": "Python 3"
    },
    "language_info": {
      "name": "python"
    }
  },
  "cells": [
    {
      "cell_type": "markdown",
      "metadata": {
        "id": "view-in-github",
        "colab_type": "text"
      },
      "source": [
        "<a href=\"https://colab.research.google.com/github/adilnarakkoden1/datasciencelab/blob/main/adiloutcome2nb.ipynb\" target=\"_parent\"><img src=\"https://colab.research.google.com/assets/colab-badge.svg\" alt=\"Open In Colab\"/></a>"
      ]
    },
    {
      "cell_type": "code",
      "execution_count": null,
      "metadata": {
        "id": "Z9Jeumv_Etm_",
        "colab": {
          "base_uri": "https://localhost:8080/"
        },
        "outputId": "02523619-9c6d-44b8-9dbf-7ed73b26c986"
      },
      "outputs": [
        {
          "output_type": "stream",
          "name": "stdout",
          "text": [
            "   a  b\n",
            "0  1  1\n",
            "1  3  3\n",
            "2  2  5\n",
            "3  5  4\n",
            "4  2  6\n",
            "5  4  8\n",
            "6  5  2\n"
          ]
        }
      ],
      "source": [
        "import numpy as np \n",
        "import pandas as pd\n",
        "import matplotlib.pyplot as plt\n",
        "dataset =pd.read_csv('navb.csv')\n",
        "a =dataset.iloc[:, [1,1]].values\n",
        "b =dataset.iloc[:,-2]\n",
        "from sklearn.model_selection import train_test_split\n",
        "a_train, a_test, b_train, b_test =train_test_split(a,b ,test_size = 1, random_state=0)\n",
        "print(dataset)\n",
        "\n"
      ]
    }
  ]
}