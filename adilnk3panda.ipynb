{
  "nbformat": 4,
  "nbformat_minor": 0,
  "metadata": {
    "colab": {
      "name": "adilnk3panda.ipynb",
      "provenance": [],
      "collapsed_sections": [],
      "authorship_tag": "ABX9TyOoJVMrEhUCSVcVOWLQtjnp",
      "include_colab_link": true
    },
    "kernelspec": {
      "name": "python3",
      "display_name": "Python 3"
    },
    "language_info": {
      "name": "python"
    }
  },
  "cells": [
    {
      "cell_type": "markdown",
      "metadata": {
        "id": "view-in-github",
        "colab_type": "text"
      },
      "source": [
        "<a href=\"https://colab.research.google.com/github/adilnarakkoden1/datasciencelab/blob/main/adilnk3panda.ipynb\" target=\"_parent\"><img src=\"https://colab.research.google.com/assets/colab-badge.svg\" alt=\"Open In Colab\"/></a>"
      ]
    },
    {
      "cell_type": "code",
      "metadata": {
        "id": "LvrCKITOg0td",
        "colab": {
          "base_uri": "https://localhost:8080/"
        },
        "outputId": "6409944d-6758-4469-e237-48ed65292d97"
      },
      "source": [
        "import pandas as pd\n",
        "x=[1,23,44,5,6]\n",
        "csk=pd.Series(x)\n",
        "print(csk)"
      ],
      "execution_count": null,
      "outputs": [
        {
          "output_type": "stream",
          "name": "stdout",
          "text": [
            "0     1\n",
            "1    23\n",
            "2    44\n",
            "3     5\n",
            "4     6\n",
            "dtype: int64\n"
          ]
        }
      ]
    },
    {
      "cell_type": "code",
      "metadata": {
        "colab": {
          "base_uri": "https://localhost:8080/"
        },
        "id": "1MJU_BkMls89",
        "outputId": "3ea22b68-56e1-4335-9d2b-df3e328362a7"
      },
      "source": [
        "import pandas as pd\n",
        "x=[1,2,3,4,5,6,11,22,99,100]\n",
        "csk=pd.Series(x,index=['N','A','R','A','K','K','O','D','E','N'])\n",
        "print(csk)"
      ],
      "execution_count": null,
      "outputs": [
        {
          "output_type": "stream",
          "name": "stdout",
          "text": [
            "N      1\n",
            "A      2\n",
            "R      3\n",
            "A      4\n",
            "K      5\n",
            "K      6\n",
            "O     11\n",
            "D     22\n",
            "E     99\n",
            "N    100\n",
            "dtype: int64\n"
          ]
        }
      ]
    },
    {
      "cell_type": "code",
      "metadata": {
        "colab": {
          "base_uri": "https://localhost:8080/"
        },
        "id": "WXmOUJApqjJ6",
        "outputId": "4b5a0fe2-fb39-4986-9e58-fab884cf8497"
      },
      "source": [
        "import pandas as pd\n",
        "csk=pd.Series([1,2,3,4,5,6,11,22,99,100] ,index = ['N','A','R','A','K','K','O','D','E','N'])\n",
        "print (csk[ :8])"
      ],
      "execution_count": null,
      "outputs": [
        {
          "output_type": "stream",
          "name": "stdout",
          "text": [
            "N     1\n",
            "A     2\n",
            "R     3\n",
            "A     4\n",
            "K     5\n",
            "K     6\n",
            "O    11\n",
            "D    22\n",
            "dtype: int64\n"
          ]
        }
      ]
    },
    {
      "cell_type": "code",
      "metadata": {
        "colab": {
          "base_uri": "https://localhost:8080/"
        },
        "id": "Lfbj6pC0sAWG",
        "outputId": "96402511-f2b9-4ea7-e747-18a7ac634758"
      },
      "source": [
        "import pandas as pd\n",
        "csk=pd.Series([1,2,3,4,5,6,11,22,99,100] ,index = ['N','A','R','A','K','K','O','D','E','N'])\n",
        "print (csk[:-8])\n"
      ],
      "execution_count": null,
      "outputs": [
        {
          "output_type": "stream",
          "name": "stdout",
          "text": [
            "N    1\n",
            "A    2\n",
            "dtype: int64\n"
          ]
        }
      ]
    },
    {
      "cell_type": "code",
      "metadata": {
        "colab": {
          "base_uri": "https://localhost:8080/"
        },
        "id": "zLGRVpaTobRT",
        "outputId": "567dc542-caec-4b62-feec-c8493125b083"
      },
      "source": [
        "import pandas as pd\n",
        "csk=pd.Series([1,2,3,4,5,6,11,22,99,100] ,index = ['N','A','R','A','K','K','O','D','E','N'])\n",
        "print (csk['A'])\n"
      ],
      "execution_count": null,
      "outputs": [
        {
          "output_type": "stream",
          "name": "stdout",
          "text": [
            "A    2\n",
            "A    4\n",
            "dtype: int64\n"
          ]
        }
      ]
    },
    {
      "cell_type": "code",
      "metadata": {
        "colab": {
          "base_uri": "https://localhost:8080/"
        },
        "id": "YVHl-dMHu-xR",
        "outputId": "61a6110c-d696-4f96-c72a-cd9aea601792"
      },
      "source": [
        "import pandas as pd\n",
        "x= {'a':10,'b':20,'c':30}\n",
        "y= pd.Series(x)\n",
        "print(x)\n"
      ],
      "execution_count": null,
      "outputs": [
        {
          "output_type": "stream",
          "name": "stdout",
          "text": [
            "{'a': 10, 'b': 20, 'c': 30}\n"
          ]
        }
      ]
    },
    {
      "cell_type": "code",
      "metadata": {
        "colab": {
          "base_uri": "https://localhost:8080/"
        },
        "id": "fxALdzpuHUWY",
        "outputId": "7e7d95bb-7b1f-4a3f-b2fc-77a7a7eb3ec3"
      },
      "source": [
        "import pandas as pd\n",
        "df = pd.read_csv('adilnn.csv')\n",
        "print(df.to_string())\n",
        "\n"
      ],
      "execution_count": null,
      "outputs": [
        {
          "output_type": "stream",
          "name": "stdout",
          "text": [
            "     name  age        dob\n",
            "0    amal   28  20/5/1998\n",
            "1   rahul   78        NaN\n",
            "2   midun   22        NaN\n",
            "3   basil   21        NaN\n",
            "4    anas   44        NaN\n",
            "5  hashim   56        NaN\n",
            "6    rauf   55        NaN\n",
            "7  vajisd   22        NaN\n"
          ]
        }
      ]
    },
    {
      "cell_type": "code",
      "metadata": {
        "colab": {
          "base_uri": "https://localhost:8080/",
          "height": 206
        },
        "id": "tKFF7sJGHfiO",
        "outputId": "b42d1fca-003c-407d-9600-ebffc4258aef"
      },
      "source": [
        "import pandas as pd\n",
        "df = pd.read_csv('ad2.csv')\n",
        "df.tail()\n",
        "\n"
      ],
      "execution_count": null,
      "outputs": [
        {
          "output_type": "execute_result",
          "data": {
            "text/html": [
              "<div>\n",
              "<style scoped>\n",
              "    .dataframe tbody tr th:only-of-type {\n",
              "        vertical-align: middle;\n",
              "    }\n",
              "\n",
              "    .dataframe tbody tr th {\n",
              "        vertical-align: top;\n",
              "    }\n",
              "\n",
              "    .dataframe thead th {\n",
              "        text-align: right;\n",
              "    }\n",
              "</style>\n",
              "<table border=\"1\" class=\"dataframe\">\n",
              "  <thead>\n",
              "    <tr style=\"text-align: right;\">\n",
              "      <th></th>\n",
              "      <th>name</th>\n",
              "      <th>age</th>\n",
              "      <th>dob</th>\n",
              "    </tr>\n",
              "  </thead>\n",
              "  <tbody>\n",
              "    <tr>\n",
              "      <th>3</th>\n",
              "      <td>basil</td>\n",
              "      <td>21</td>\n",
              "      <td>20/5/2001</td>\n",
              "    </tr>\n",
              "    <tr>\n",
              "      <th>4</th>\n",
              "      <td>anas</td>\n",
              "      <td>44</td>\n",
              "      <td>20/5/2002</td>\n",
              "    </tr>\n",
              "    <tr>\n",
              "      <th>5</th>\n",
              "      <td>hashim</td>\n",
              "      <td>56</td>\n",
              "      <td>20/5/2003</td>\n",
              "    </tr>\n",
              "    <tr>\n",
              "      <th>6</th>\n",
              "      <td>rauf</td>\n",
              "      <td>55</td>\n",
              "      <td>20/5/2004</td>\n",
              "    </tr>\n",
              "    <tr>\n",
              "      <th>7</th>\n",
              "      <td>vajisd</td>\n",
              "      <td>22</td>\n",
              "      <td>20/5/2005</td>\n",
              "    </tr>\n",
              "  </tbody>\n",
              "</table>\n",
              "</div>"
            ],
            "text/plain": [
              "     name  age        dob\n",
              "3   basil   21  20/5/2001\n",
              "4    anas   44  20/5/2002\n",
              "5  hashim   56  20/5/2003\n",
              "6    rauf   55  20/5/2004\n",
              "7  vajisd   22  20/5/2005"
            ]
          },
          "metadata": {},
          "execution_count": 28
        }
      ]
    },
    {
      "cell_type": "code",
      "metadata": {
        "colab": {
          "base_uri": "https://localhost:8080/",
          "height": 206
        },
        "id": "F1MN_6XjJzhJ",
        "outputId": "db6165a2-3181-4882-acae-52aff68d43e4"
      },
      "source": [
        "import pandas as pd\n",
        "df = pd.read_csv('ad2.csv')\n",
        "df.head()\n"
      ],
      "execution_count": null,
      "outputs": [
        {
          "output_type": "execute_result",
          "data": {
            "text/html": [
              "<div>\n",
              "<style scoped>\n",
              "    .dataframe tbody tr th:only-of-type {\n",
              "        vertical-align: middle;\n",
              "    }\n",
              "\n",
              "    .dataframe tbody tr th {\n",
              "        vertical-align: top;\n",
              "    }\n",
              "\n",
              "    .dataframe thead th {\n",
              "        text-align: right;\n",
              "    }\n",
              "</style>\n",
              "<table border=\"1\" class=\"dataframe\">\n",
              "  <thead>\n",
              "    <tr style=\"text-align: right;\">\n",
              "      <th></th>\n",
              "      <th>name</th>\n",
              "      <th>age</th>\n",
              "      <th>dob</th>\n",
              "    </tr>\n",
              "  </thead>\n",
              "  <tbody>\n",
              "    <tr>\n",
              "      <th>0</th>\n",
              "      <td>amal</td>\n",
              "      <td>28</td>\n",
              "      <td>20/5/1998</td>\n",
              "    </tr>\n",
              "    <tr>\n",
              "      <th>1</th>\n",
              "      <td>rahul</td>\n",
              "      <td>78</td>\n",
              "      <td>20/5/1999</td>\n",
              "    </tr>\n",
              "    <tr>\n",
              "      <th>2</th>\n",
              "      <td>midun</td>\n",
              "      <td>22</td>\n",
              "      <td>20/5/2000</td>\n",
              "    </tr>\n",
              "    <tr>\n",
              "      <th>3</th>\n",
              "      <td>basil</td>\n",
              "      <td>21</td>\n",
              "      <td>20/5/2001</td>\n",
              "    </tr>\n",
              "    <tr>\n",
              "      <th>4</th>\n",
              "      <td>anas</td>\n",
              "      <td>44</td>\n",
              "      <td>20/5/2002</td>\n",
              "    </tr>\n",
              "  </tbody>\n",
              "</table>\n",
              "</div>"
            ],
            "text/plain": [
              "    name  age        dob\n",
              "0   amal   28  20/5/1998\n",
              "1  rahul   78  20/5/1999\n",
              "2  midun   22  20/5/2000\n",
              "3  basil   21  20/5/2001\n",
              "4   anas   44  20/5/2002"
            ]
          },
          "metadata": {},
          "execution_count": 27
        }
      ]
    },
    {
      "cell_type": "code",
      "metadata": {
        "colab": {
          "base_uri": "https://localhost:8080/",
          "height": 206
        },
        "id": "C0gfo-rBKX0w",
        "outputId": "b0b50c9a-331e-4601-c403-206b13e3cf0b"
      },
      "source": [
        "import pandas as pd\n",
        "df = pd.read_csv('ad2.csv')\n",
        "df.head(5)"
      ],
      "execution_count": null,
      "outputs": [
        {
          "output_type": "execute_result",
          "data": {
            "text/html": [
              "<div>\n",
              "<style scoped>\n",
              "    .dataframe tbody tr th:only-of-type {\n",
              "        vertical-align: middle;\n",
              "    }\n",
              "\n",
              "    .dataframe tbody tr th {\n",
              "        vertical-align: top;\n",
              "    }\n",
              "\n",
              "    .dataframe thead th {\n",
              "        text-align: right;\n",
              "    }\n",
              "</style>\n",
              "<table border=\"1\" class=\"dataframe\">\n",
              "  <thead>\n",
              "    <tr style=\"text-align: right;\">\n",
              "      <th></th>\n",
              "      <th>name</th>\n",
              "      <th>age</th>\n",
              "      <th>dob</th>\n",
              "    </tr>\n",
              "  </thead>\n",
              "  <tbody>\n",
              "    <tr>\n",
              "      <th>0</th>\n",
              "      <td>amal</td>\n",
              "      <td>28</td>\n",
              "      <td>20/5/1998</td>\n",
              "    </tr>\n",
              "    <tr>\n",
              "      <th>1</th>\n",
              "      <td>rahul</td>\n",
              "      <td>78</td>\n",
              "      <td>20/5/1999</td>\n",
              "    </tr>\n",
              "    <tr>\n",
              "      <th>2</th>\n",
              "      <td>midun</td>\n",
              "      <td>22</td>\n",
              "      <td>20/5/2000</td>\n",
              "    </tr>\n",
              "    <tr>\n",
              "      <th>3</th>\n",
              "      <td>basil</td>\n",
              "      <td>21</td>\n",
              "      <td>20/5/2001</td>\n",
              "    </tr>\n",
              "    <tr>\n",
              "      <th>4</th>\n",
              "      <td>anas</td>\n",
              "      <td>44</td>\n",
              "      <td>20/5/2002</td>\n",
              "    </tr>\n",
              "  </tbody>\n",
              "</table>\n",
              "</div>"
            ],
            "text/plain": [
              "    name  age        dob\n",
              "0   amal   28  20/5/1998\n",
              "1  rahul   78  20/5/1999\n",
              "2  midun   22  20/5/2000\n",
              "3  basil   21  20/5/2001\n",
              "4   anas   44  20/5/2002"
            ]
          },
          "metadata": {},
          "execution_count": 29
        }
      ]
    },
    {
      "cell_type": "code",
      "metadata": {
        "colab": {
          "base_uri": "https://localhost:8080/",
          "height": 112
        },
        "id": "8LVtNngYKeCA",
        "outputId": "757a0577-f32e-4851-d805-85b0d575d66b"
      },
      "source": [
        "import pandas as pd\n",
        "df = pd.read_csv('ad2.csv')\n",
        "df.tail(2)"
      ],
      "execution_count": null,
      "outputs": [
        {
          "output_type": "execute_result",
          "data": {
            "text/html": [
              "<div>\n",
              "<style scoped>\n",
              "    .dataframe tbody tr th:only-of-type {\n",
              "        vertical-align: middle;\n",
              "    }\n",
              "\n",
              "    .dataframe tbody tr th {\n",
              "        vertical-align: top;\n",
              "    }\n",
              "\n",
              "    .dataframe thead th {\n",
              "        text-align: right;\n",
              "    }\n",
              "</style>\n",
              "<table border=\"1\" class=\"dataframe\">\n",
              "  <thead>\n",
              "    <tr style=\"text-align: right;\">\n",
              "      <th></th>\n",
              "      <th>name</th>\n",
              "      <th>age</th>\n",
              "      <th>dob</th>\n",
              "    </tr>\n",
              "  </thead>\n",
              "  <tbody>\n",
              "    <tr>\n",
              "      <th>6</th>\n",
              "      <td>rauf</td>\n",
              "      <td>55</td>\n",
              "      <td>20/5/2004</td>\n",
              "    </tr>\n",
              "    <tr>\n",
              "      <th>7</th>\n",
              "      <td>vajisd</td>\n",
              "      <td>22</td>\n",
              "      <td>20/5/2005</td>\n",
              "    </tr>\n",
              "  </tbody>\n",
              "</table>\n",
              "</div>"
            ],
            "text/plain": [
              "     name  age        dob\n",
              "6    rauf   55  20/5/2004\n",
              "7  vajisd   22  20/5/2005"
            ]
          },
          "metadata": {},
          "execution_count": 30
        }
      ]
    },
    {
      "cell_type": "code",
      "metadata": {
        "colab": {
          "base_uri": "https://localhost:8080/",
          "height": 300
        },
        "id": "XPAXpIs9K5rQ",
        "outputId": "5ad7491b-a83d-492c-e500-98248177456d"
      },
      "source": [
        "import pandas as pd\n",
        "df = pd.read_csv('adil4.csv')\n",
        "df.drop_duplicates(\"name\")"
      ],
      "execution_count": null,
      "outputs": [
        {
          "output_type": "execute_result",
          "data": {
            "text/html": [
              "<div>\n",
              "<style scoped>\n",
              "    .dataframe tbody tr th:only-of-type {\n",
              "        vertical-align: middle;\n",
              "    }\n",
              "\n",
              "    .dataframe tbody tr th {\n",
              "        vertical-align: top;\n",
              "    }\n",
              "\n",
              "    .dataframe thead th {\n",
              "        text-align: right;\n",
              "    }\n",
              "</style>\n",
              "<table border=\"1\" class=\"dataframe\">\n",
              "  <thead>\n",
              "    <tr style=\"text-align: right;\">\n",
              "      <th></th>\n",
              "      <th>name</th>\n",
              "      <th>age</th>\n",
              "      <th>dob</th>\n",
              "    </tr>\n",
              "  </thead>\n",
              "  <tbody>\n",
              "    <tr>\n",
              "      <th>0</th>\n",
              "      <td>amal</td>\n",
              "      <td>28</td>\n",
              "      <td>20/5/1998</td>\n",
              "    </tr>\n",
              "    <tr>\n",
              "      <th>1</th>\n",
              "      <td>rahul</td>\n",
              "      <td>28</td>\n",
              "      <td>20/5/1999</td>\n",
              "    </tr>\n",
              "    <tr>\n",
              "      <th>2</th>\n",
              "      <td>midun</td>\n",
              "      <td>22</td>\n",
              "      <td>20/5/2000</td>\n",
              "    </tr>\n",
              "    <tr>\n",
              "      <th>3</th>\n",
              "      <td>basil</td>\n",
              "      <td>21</td>\n",
              "      <td>20/5/2001</td>\n",
              "    </tr>\n",
              "    <tr>\n",
              "      <th>4</th>\n",
              "      <td>anas</td>\n",
              "      <td>44</td>\n",
              "      <td>20/5/2002</td>\n",
              "    </tr>\n",
              "    <tr>\n",
              "      <th>5</th>\n",
              "      <td>hashim</td>\n",
              "      <td>56</td>\n",
              "      <td>20/5/2003</td>\n",
              "    </tr>\n",
              "    <tr>\n",
              "      <th>6</th>\n",
              "      <td>rauf</td>\n",
              "      <td>55</td>\n",
              "      <td>20/5/2004</td>\n",
              "    </tr>\n",
              "    <tr>\n",
              "      <th>7</th>\n",
              "      <td>vajisd</td>\n",
              "      <td>22</td>\n",
              "      <td>20/5/2005</td>\n",
              "    </tr>\n",
              "  </tbody>\n",
              "</table>\n",
              "</div>"
            ],
            "text/plain": [
              "     name  age        dob\n",
              "0    amal   28  20/5/1998\n",
              "1   rahul   28  20/5/1999\n",
              "2   midun   22  20/5/2000\n",
              "3   basil   21  20/5/2001\n",
              "4    anas   44  20/5/2002\n",
              "5  hashim   56  20/5/2003\n",
              "6    rauf   55  20/5/2004\n",
              "7  vajisd   22  20/5/2005"
            ]
          },
          "metadata": {},
          "execution_count": 44
        }
      ]
    },
    {
      "cell_type": "code",
      "metadata": {
        "colab": {
          "base_uri": "https://localhost:8080/"
        },
        "id": "adbbYFyXOT_E",
        "outputId": "42c5448d-b0a2-4a74-e281-460eae89c73e"
      },
      "source": [
        "import pandas as pd\n",
        "df = pd.read_csv('adil5.csv')\n",
        "df.dropna"
      ],
      "execution_count": null,
      "outputs": [
        {
          "output_type": "execute_result",
          "data": {
            "text/plain": [
              "<bound method DataFrame.dropna of      name  age        dob\n",
              "0    amal   28  20/5/1998\n",
              "1   rahul   28  20/5/1999\n",
              "2   midun   22  20/5/2000\n",
              "3   basil   21  20/5/2001\n",
              "4    anas   44  20/5/2002\n",
              "5  hashim   56  20/5/2003\n",
              "6     NaN   55  20/5/2004\n",
              "7  vajisd   22  20/5/2005\n",
              "8    amal   32  20/5/2006>"
            ]
          },
          "metadata": {},
          "execution_count": 47
        }
      ]
    },
    {
      "cell_type": "code",
      "metadata": {
        "colab": {
          "base_uri": "https://localhost:8080/",
          "height": 81
        },
        "id": "BP-m35e_UcYf",
        "outputId": "dea246c5-c9ee-4c30-f964-85c1f8de0618"
      },
      "source": [
        "import pandas as pd\n",
        "df = pd.read_csv('adil5.csv')\n",
        "df.corr(method=\"pearson\")"
      ],
      "execution_count": null,
      "outputs": [
        {
          "output_type": "execute_result",
          "data": {
            "text/html": [
              "<div>\n",
              "<style scoped>\n",
              "    .dataframe tbody tr th:only-of-type {\n",
              "        vertical-align: middle;\n",
              "    }\n",
              "\n",
              "    .dataframe tbody tr th {\n",
              "        vertical-align: top;\n",
              "    }\n",
              "\n",
              "    .dataframe thead th {\n",
              "        text-align: right;\n",
              "    }\n",
              "</style>\n",
              "<table border=\"1\" class=\"dataframe\">\n",
              "  <thead>\n",
              "    <tr style=\"text-align: right;\">\n",
              "      <th></th>\n",
              "      <th>age</th>\n",
              "    </tr>\n",
              "  </thead>\n",
              "  <tbody>\n",
              "    <tr>\n",
              "      <th>age</th>\n",
              "      <td>1.0</td>\n",
              "    </tr>\n",
              "  </tbody>\n",
              "</table>\n",
              "</div>"
            ],
            "text/plain": [
              "     age\n",
              "age  1.0"
            ]
          },
          "metadata": {},
          "execution_count": 48
        }
      ]
    }
  ]
}