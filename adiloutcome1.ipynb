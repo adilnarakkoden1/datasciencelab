{
  "nbformat": 4,
  "nbformat_minor": 0,
  "metadata": {
    "colab": {
      "name": "adiloutcome1.ipynb",
      "provenance": [],
      "authorship_tag": "ABX9TyMhO2VFl85JUHFqJthO2tXX",
      "include_colab_link": true
    },
    "kernelspec": {
      "name": "python3",
      "display_name": "Python 3"
    },
    "language_info": {
      "name": "python"
    }
  },
  "cells": [
    {
      "cell_type": "markdown",
      "metadata": {
        "id": "view-in-github",
        "colab_type": "text"
      },
      "source": [
        "<a href=\"https://colab.research.google.com/github/adilnarakkoden1/datasciencelab/blob/main/adiloutcome1.ipynb\" target=\"_parent\"><img src=\"https://colab.research.google.com/assets/colab-badge.svg\" alt=\"Open In Colab\"/></a>"
      ]
    },
    {
      "cell_type": "code",
      "metadata": {
        "colab": {
          "base_uri": "https://localhost:8080/"
        },
        "id": "yhJ7VAAm8I_S",
        "outputId": "8e080272-2a50-409b-a9f0-460788d0b2e7"
      },
      "source": [
        "import numpy as np\n",
        "abc = np.array ([1,2,3,4,5,6,7,8,9,10])\n",
        "print(abc)"
      ],
      "execution_count": null,
      "outputs": [
        {
          "output_type": "stream",
          "name": "stdout",
          "text": [
            "[ 1  2  3  4  5  6  7  8  9 10]\n"
          ]
        }
      ]
    },
    {
      "cell_type": "code",
      "metadata": {
        "colab": {
          "base_uri": "https://localhost:8080/"
        },
        "id": "TV_wAonO9I8q",
        "outputId": "d18dafd2-00f6-4be0-ffa6-80d5092e74cb"
      },
      "source": [
        "import numpy as np\n",
        "abc = np.array ([1])\n",
        "print(abc)"
      ],
      "execution_count": null,
      "outputs": [
        {
          "output_type": "stream",
          "name": "stdout",
          "text": [
            "[1]\n"
          ]
        }
      ]
    },
    {
      "cell_type": "code",
      "metadata": {
        "colab": {
          "base_uri": "https://localhost:8080/"
        },
        "id": "cDJw40B19T53",
        "outputId": "9aac4ecc-789c-44cf-8aef-7c63d67249fb"
      },
      "source": [
        "import numpy as np\n",
        "abc =  ([1,2])\n",
        "np.ones(abc)"
      ],
      "execution_count": null,
      "outputs": [
        {
          "output_type": "execute_result",
          "data": {
            "text/plain": [
              "array([[1., 1.]])"
            ]
          },
          "metadata": {},
          "execution_count": 5
        }
      ]
    },
    {
      "cell_type": "code",
      "metadata": {
        "colab": {
          "base_uri": "https://localhost:8080/",
          "height": 183
        },
        "id": "IITr7J0YAOpK",
        "outputId": "89dda3d5-5163-48e9-c726-7f20ded8f984"
      },
      "source": [
        "import numpy as np\n",
        "np.zeros(2,2)"
      ],
      "execution_count": null,
      "outputs": [
        {
          "output_type": "error",
          "ename": "TypeError",
          "evalue": "ignored",
          "traceback": [
            "\u001b[0;31m---------------------------------------------------------------------------\u001b[0m",
            "\u001b[0;31mTypeError\u001b[0m                                 Traceback (most recent call last)",
            "\u001b[0;32m<ipython-input-7-39efb537c5c0>\u001b[0m in \u001b[0;36m<module>\u001b[0;34m()\u001b[0m\n\u001b[1;32m      1\u001b[0m \u001b[0;32mimport\u001b[0m \u001b[0mnumpy\u001b[0m \u001b[0;32mas\u001b[0m \u001b[0mnp\u001b[0m\u001b[0;34m\u001b[0m\u001b[0;34m\u001b[0m\u001b[0m\n\u001b[0;32m----> 2\u001b[0;31m \u001b[0mnp\u001b[0m\u001b[0;34m.\u001b[0m\u001b[0mzeros\u001b[0m\u001b[0;34m(\u001b[0m\u001b[0;36m2\u001b[0m\u001b[0;34m,\u001b[0m\u001b[0;36m2\u001b[0m\u001b[0;34m)\u001b[0m\u001b[0;34m\u001b[0m\u001b[0;34m\u001b[0m\u001b[0m\n\u001b[0m",
            "\u001b[0;31mTypeError\u001b[0m: Cannot interpret '2' as a data type"
          ]
        }
      ]
    },
    {
      "cell_type": "code",
      "metadata": {
        "colab": {
          "base_uri": "https://localhost:8080/"
        },
        "id": "89BDRV20AXkn",
        "outputId": "ae518013-a147-453a-d2b9-4c88d73078cb"
      },
      "source": [
        "import numpy as np\n",
        "abc =  ([1,2])\n",
        "np.zeros(abc)"
      ],
      "execution_count": null,
      "outputs": [
        {
          "output_type": "execute_result",
          "data": {
            "text/plain": [
              "array([[0., 0.]])"
            ]
          },
          "metadata": {},
          "execution_count": 8
        }
      ]
    },
    {
      "cell_type": "code",
      "metadata": {
        "colab": {
          "base_uri": "https://localhost:8080/"
        },
        "id": "NYGcK6gND-Le",
        "outputId": "394b95ad-dfcb-43ad-a535-90dc8a2746c9"
      },
      "source": [
        "import numpy as np\n",
        "abc = np.eye (2, dtype=int)\n",
        "print(abc)"
      ],
      "execution_count": null,
      "outputs": [
        {
          "output_type": "stream",
          "name": "stdout",
          "text": [
            "[[1 0]\n",
            " [0 1]]\n"
          ]
        }
      ]
    },
    {
      "cell_type": "code",
      "metadata": {
        "id": "6B4Vdi4QEnSn"
      },
      "source": [
        "import numpy as np\n",
        "abc = np.eye (4,5)\n",
        "print(abc)\n"
      ],
      "execution_count": null,
      "outputs": []
    },
    {
      "cell_type": "code",
      "metadata": {
        "colab": {
          "base_uri": "https://localhost:8080/"
        },
        "id": "jOT44gxeF9ZX",
        "outputId": "44beaf9d-6858-448d-fe65-f2968ee015ec"
      },
      "source": [
        "import numpy as np\n",
        "np.arange (5)\n"
      ],
      "execution_count": null,
      "outputs": [
        {
          "output_type": "execute_result",
          "data": {
            "text/plain": [
              "array([0, 1, 2, 3, 4])"
            ]
          },
          "metadata": {},
          "execution_count": 16
        }
      ]
    },
    {
      "cell_type": "code",
      "metadata": {
        "colab": {
          "base_uri": "https://localhost:8080/"
        },
        "id": "mOCEAD9pH8f7",
        "outputId": "a2765195-02c8-4829-b522-54c3be1523ae"
      },
      "source": [
        "import numpy as np\n",
        "a1 =np.array([2,4,5,6])\n",
        "a2 =np.array([1,5,8,7])\n",
        "a3=a1+a2\n",
        "print(a3)"
      ],
      "execution_count": null,
      "outputs": [
        {
          "output_type": "stream",
          "name": "stdout",
          "text": [
            "[ 3  9 13 13]\n"
          ]
        }
      ]
    },
    {
      "cell_type": "code",
      "metadata": {
        "colab": {
          "base_uri": "https://localhost:8080/"
        },
        "id": "O6csxLWYJHSj",
        "outputId": "4a2f47f0-20d6-4241-92fe-78adc91a5b7e"
      },
      "source": [
        "import numpy as np\n",
        "a1 =np.array([2,4,5,6])\n",
        "a2 =np.array([1,5,8,7])\n",
        "a3=a1-a2\n",
        "print(a3)"
      ],
      "execution_count": null,
      "outputs": [
        {
          "output_type": "stream",
          "name": "stdout",
          "text": [
            "[ 1 -1 -3 -1]\n"
          ]
        }
      ]
    },
    {
      "cell_type": "code",
      "metadata": {
        "colab": {
          "base_uri": "https://localhost:8080/"
        },
        "id": "GYbykjikJNSL",
        "outputId": "bea54829-df38-45bc-aa2e-d46c7faf88bd"
      },
      "source": [
        "import numpy as np\n",
        "a1 =np.array([2,4,5,6])\n",
        "a2 =np.array([1,5,8,7])\n",
        "a3=a1*a2\n",
        "print(a3)"
      ],
      "execution_count": null,
      "outputs": [
        {
          "output_type": "stream",
          "name": "stdout",
          "text": [
            "[ 2 20 40 42]\n"
          ]
        }
      ]
    },
    {
      "cell_type": "code",
      "metadata": {
        "colab": {
          "base_uri": "https://localhost:8080/"
        },
        "id": "b-Z77LJgJQzk",
        "outputId": "d103dc1a-8997-4323-da1c-41299d6795e7"
      },
      "source": [
        "import numpy as np\n",
        "a1 =np.array([2,4,5,6])\n",
        "a2 =np.array([1,5,8,7])\n",
        "a3=a1/a2\n",
        "print(a3)"
      ],
      "execution_count": null,
      "outputs": [
        {
          "output_type": "stream",
          "name": "stdout",
          "text": [
            "[2.         0.8        0.625      0.85714286]\n"
          ]
        }
      ]
    },
    {
      "cell_type": "code",
      "metadata": {
        "colab": {
          "base_uri": "https://localhost:8080/"
        },
        "id": "hHfub9hYJUQb",
        "outputId": "bdad4cfc-352a-489c-e0d5-685cf907728a"
      },
      "source": [
        "import numpy as np\n",
        "a1 =np.array([2,4,5,6])\n",
        "a1=a1**2\n",
        "print(a1)"
      ],
      "execution_count": null,
      "outputs": [
        {
          "output_type": "stream",
          "name": "stdout",
          "text": [
            "[ 4 16 25 36]\n"
          ]
        }
      ]
    },
    {
      "cell_type": "code",
      "metadata": {
        "colab": {
          "base_uri": "https://localhost:8080/"
        },
        "id": "kBKFwPHYJ0L9",
        "outputId": "ab87ead6-7654-4f5b-8394-83a7331db9c0"
      },
      "source": [
        "import numpy as np\n",
        "a1 =np.array([1,2,4,5,6,7])\n",
        "a2 =a1.reshape([2,3])\n",
        "print(a2)"
      ],
      "execution_count": null,
      "outputs": [
        {
          "output_type": "stream",
          "name": "stdout",
          "text": [
            "[[1 2 4]\n",
            " [5 6 7]]\n"
          ]
        }
      ]
    },
    {
      "cell_type": "code",
      "metadata": {
        "colab": {
          "base_uri": "https://localhost:8080/"
        },
        "id": "sCJfsfLMKrJD",
        "outputId": "7295a93f-e470-49e0-8571-0646cda9e0b2"
      },
      "source": [
        "import numpy as np\n",
        "a1 =np.array([1,2,4,5,6,7])\n",
        "a1.resize([2,3])\n",
        "print(a1)"
      ],
      "execution_count": null,
      "outputs": [
        {
          "output_type": "stream",
          "name": "stdout",
          "text": [
            "[[1 2 4]\n",
            " [5 6 7]]\n"
          ]
        }
      ]
    },
    {
      "cell_type": "code",
      "metadata": {
        "colab": {
          "base_uri": "https://localhost:8080/"
        },
        "id": "P9WsKmBWOcAU",
        "outputId": "c433131c-9ddb-448a-ef5f-29266c546739"
      },
      "source": [
        "import numpy as np\n",
        "np.linspace(1,2, num=5)"
      ],
      "execution_count": null,
      "outputs": [
        {
          "output_type": "execute_result",
          "data": {
            "text/plain": [
              "array([1.  , 1.25, 1.5 , 1.75, 2.  ])"
            ]
          },
          "metadata": {},
          "execution_count": 36
        }
      ]
    },
    {
      "cell_type": "code",
      "metadata": {
        "id": "9fiY7WirQ_9V",
        "colab": {
          "base_uri": "https://localhost:8080/"
        },
        "outputId": "6f7b7fc9-a7c4-4462-dcf7-033953912321"
      },
      "source": [
        "import numpy as np\n",
        "ar = np.array([[1, 2, 3], [4, 5, 6], [7, 8, 9]])\n",
        "print(ar)\n",
        "a,b,c=np.linalg.svd(ar)\n",
        "print(\"\\n=\",a,\"\\n=b\",b,\"\\n=c\",c)\n",
        "\n",
        "\n",
        "\n",
        "  "
      ],
      "execution_count": null,
      "outputs": [
        {
          "output_type": "stream",
          "name": "stdout",
          "text": [
            "[[1 2 3]\n",
            " [4 5 6]\n",
            " [7 8 9]]\n",
            "\n",
            "= [[-0.21483724  0.88723069  0.40824829]\n",
            " [-0.52058739  0.24964395 -0.81649658]\n",
            " [-0.82633754 -0.38794278  0.40824829]] \n",
            "=b [1.68481034e+01 1.06836951e+00 3.33475287e-16] \n",
            "=c [[-0.47967118 -0.57236779 -0.66506441]\n",
            " [-0.77669099 -0.07568647  0.62531805]\n",
            " [-0.40824829  0.81649658 -0.40824829]]\n"
          ]
        }
      ]
    }
  ]
}